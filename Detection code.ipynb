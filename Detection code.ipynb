{
 "cells": [
  {
   "cell_type": "code",
   "execution_count": null,
   "metadata": {
    "colab": {
     "base_uri": "https://localhost:8080/"
    },
    "id": "HOzAbAK5IBUB",
    "outputId": "2e40f9ac-af01-4c1d-af55-66ce467cc6a1"
   },
   "outputs": [
    {
     "name": "stdout",
     "output_type": "stream",
     "text": [
      "Initializing file hashes for /content/malicious.pdf...\n",
      "Monitoring started for /content/malicious.pdf...\n",
      "File modified: /content\n",
      "File modified: /content\n"
     ]
    }
   ],
   "source": [
    "import os\n",
    "import time\n",
    "import hashlib\n",
    "from watchdog.observers import Observer\n",
    "from watchdog.events import FileSystemEventHandler\n",
    "\n",
    "# This line define the path to the \"malicious.pdf\" file which is in the Colab environment\n",
    "MONITORED_FILE = r\"/content/malicious.pdf\"\n",
    "\n",
    "# The hash function meant for file integrity check\n",
    "def get_file_hash(file_path):\n",
    "    sha256_hash = hashlib.sha256()\n",
    "    with open(file_path, \"rb\") as f:\n",
    "        # This part reads and updates the hash string value in blocks of 4K\n",
    "        for byte_block in iter(lambda: f.read(4096), b\"\"):\n",
    "            sha256_hash.update(byte_block)\n",
    "    return sha256_hash.hexdigest()\n",
    "\n",
    "# This dictionary stores original file hash used for comparison\n",
    "file_hashes = {}\n",
    "\n",
    "# Initialize file hash\n",
    "def init_file_hashes():\n",
    "    print(f\"Initializing file hashes for {MONITORED_FILE}...\")\n",
    "    file_hashes[MONITORED_FILE] = get_file_hash(MONITORED_FILE)\n",
    "\n",
    "# This function defines the rule for detecting ransomware activity\n",
    "def detect_ransomware(file_path, event_type):\n",
    "    print(f\"Event detected: {event_type} on {file_path}\")\n",
    "\n",
    "    # This condition checks if the file is renamed with '.enc' extension (It is common in ransomware attacks)\n",
    "    if event_type == 'modified' and file_path.endswith('.enc'):\n",
    "        print(f\"Suspicious activity detected: File renamed to {file_path} (possible ransomware encryption)\")\n",
    "        trigger_mitigation(file_path)\n",
    "\n",
    "    # This condition checks if the file was modified unexpectedly or not\n",
    "    if event_type == 'modified' and file_path == MONITORED_FILE:\n",
    "        print(f\"File modification detected: {file_path}\")\n",
    "        # This part compares the current file hash with the original one in order to detect unauthorized changes\n",
    "        current_hash = get_file_hash(file_path)\n",
    "        if current_hash != file_hashes.get(file_path):\n",
    "            print(f\"File content has been modified unexpectedly: {file_path}\")\n",
    "            trigger_mitigation(file_path)\n",
    "\n",
    "def trigger_mitigation(file_path):\n",
    "    # A sample mitigation: it sends alert and block the file (additional mitigation can be added)\n",
    "    print(f\"Mitigation triggered for {file_path}: Sending alert and blocking file access\")\n",
    "    # It send alert (Which can be an email or message to sysadmin)\n",
    "    send_alert(file_path)\n",
    "    # Optionally block file (example for Linux-based systems in Colab)\n",
    "    os.chmod(file_path, 0o000)  # Change file permissions to prevent further access\n",
    "\n",
    "def send_alert(file_path):\n",
    "    # A sample alert function, which sends a simple notification to the system administrator\n",
    "    print(f\"ALERT: Potential ransomware activity detected on {file_path}. Please check the system immediately.\")\n",
    "\n",
    "# This class creates a custom event handler for monitoring the file\n",
    "class RansomwareDetectorHandler(FileSystemEventHandler):\n",
    "    def on_modified(self, event):\n",
    "        print(f\"File modified: {event.src_path}\")\n",
    "        if event.is_directory:\n",
    "            return\n",
    "        detect_ransomware(event.src_path, 'modified')\n",
    "\n",
    "    def on_created(self, event):\n",
    "        print(f\"File created: {event.src_path}\")\n",
    "        if event.is_directory:\n",
    "            return\n",
    "        detect_ransomware(event.src_path, 'created')\n",
    "\n",
    "    def on_deleted(self, event):\n",
    "        print(f\"File deleted: {event.src_path}\")\n",
    "        if event.is_directory:\n",
    "            return\n",
    "        print(f\"File deletion detected: {event.src_path}\")\n",
    "\n",
    "# This is the main function used to set up monitoring\n",
    "def monitor_files():\n",
    "    init_file_hashes()  # This initializes the hash table with the current file hash\n",
    "\n",
    "    event_handler = RansomwareDetectorHandler()\n",
    "    observer = Observer()\n",
    "\n",
    "    # This snippet monitors the specific file for changes (It monitors directory only)\n",
    "    observer.schedule(event_handler, os.path.dirname(MONITORED_FILE), recursive=False)\n",
    "    observer.start()\n",
    "    print(f\"Monitoring started for {MONITORED_FILE}...\")\n",
    "\n",
    "    try:\n",
    "        while True:\n",
    "            time.sleep(1)\n",
    "    except KeyboardInterrupt:\n",
    "        observer.stop()\n",
    "    observer.join()\n",
    "\n",
    "if __name__ == \"__main__\":\n",
    "    monitor_files()\n"
   ]
  },
  {
   "cell_type": "code",
   "execution_count": 8,
   "metadata": {
    "colab": {
     "base_uri": "https://localhost:8080/"
    },
    "id": "A91PC5hILGDe",
    "outputId": "caa090b0-4e50-4ced-ed5f-f28f0be14050"
   },
   "outputs": [
    {
     "name": "stdout",
     "output_type": "stream",
     "text": [
      "Collecting watchdog\n",
      "  Downloading watchdog-6.0.0-py3-none-manylinux2014_x86_64.whl.metadata (44 kB)\n",
      "\u001b[2K     \u001b[90m━━━━━━━━━━━━━━━━━━━━━━━━━━━━━━━━━━━━━━━━\u001b[0m \u001b[32m44.3/44.3 kB\u001b[0m \u001b[31m1.6 MB/s\u001b[0m eta \u001b[36m0:00:00\u001b[0m\n",
      "\u001b[?25hDownloading watchdog-6.0.0-py3-none-manylinux2014_x86_64.whl (79 kB)\n",
      "\u001b[2K   \u001b[90m━━━━━━━━━━━━━━━━━━━━━━━━━━━━━━━━━━━━━━━━\u001b[0m \u001b[32m79.1/79.1 kB\u001b[0m \u001b[31m2.9 MB/s\u001b[0m eta \u001b[36m0:00:00\u001b[0m\n",
      "\u001b[?25hInstalling collected packages: watchdog\n",
      "Successfully installed watchdog-6.0.0\n"
     ]
    }
   ],
   "source": [
    "!pip install watchdog\n"
   ]
  }
 ],
 "metadata": {
  "colab": {
   "provenance": []
  },
  "kernelspec": {
   "display_name": "Python 3 (ipykernel)",
   "language": "python",
   "name": "python3"
  },
  "language_info": {
   "codemirror_mode": {
    "name": "ipython",
    "version": 3
   },
   "file_extension": ".py",
   "mimetype": "text/x-python",
   "name": "python",
   "nbconvert_exporter": "python",
   "pygments_lexer": "ipython3",
   "version": "3.12.4"
  }
 },
 "nbformat": 4,
 "nbformat_minor": 4
}
